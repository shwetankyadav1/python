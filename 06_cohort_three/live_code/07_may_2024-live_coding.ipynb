{
 "cells": [
  {
   "cell_type": "code",
   "execution_count": 7,
   "metadata": {},
   "outputs": [
    {
     "data": {
      "text/plain": [
       "('changeable', 'fluctuating', 'inconstant', 'variable')"
      ]
     },
     "execution_count": 7,
     "metadata": {},
     "output_type": "execute_result"
    }
   ],
   "source": [
    "# Tuples\n",
    "\n",
    "# another built-in data type similar to lists\n",
    "# collections of values\n",
    "# tuples are immutable --> they cannot be changed once they are created\n",
    "\n",
    "mutable_synonyms = ('changeable', 'fluctuating', 'inconstant', 'variable')\n",
    "mutable_synonyms"
   ]
  },
  {
   "cell_type": "code",
   "execution_count": 3,
   "metadata": {},
   "outputs": [
    {
     "data": {
      "text/plain": [
       "tuple"
      ]
     },
     "execution_count": 3,
     "metadata": {},
     "output_type": "execute_result"
    }
   ],
   "source": [
    "empty = () # convention\n",
    "type(empty)"
   ]
  },
  {
   "cell_type": "code",
   "execution_count": 4,
   "metadata": {},
   "outputs": [
    {
     "data": {
      "text/plain": [
       "tuple"
      ]
     },
     "execution_count": 4,
     "metadata": {},
     "output_type": "execute_result"
    }
   ],
   "source": [
    "also_empty = tuple()\n",
    "type(also_empty)"
   ]
  },
  {
   "cell_type": "code",
   "execution_count": 5,
   "metadata": {},
   "outputs": [
    {
     "ename": "AttributeError",
     "evalue": "'tuple' object has no attribute 'append'",
     "output_type": "error",
     "traceback": [
      "\u001b[0;31m---------------------------------------------------------------------------\u001b[0m",
      "\u001b[0;31mAttributeError\u001b[0m                            Traceback (most recent call last)",
      "Cell \u001b[0;32mIn[5], line 1\u001b[0m\n\u001b[0;32m----> 1\u001b[0m \u001b[43mempty\u001b[49m\u001b[38;5;241;43m.\u001b[39;49m\u001b[43mappend\u001b[49m(\u001b[38;5;124m'\u001b[39m\u001b[38;5;124mhi\u001b[39m\u001b[38;5;124m'\u001b[39m)\n",
      "\u001b[0;31mAttributeError\u001b[0m: 'tuple' object has no attribute 'append'"
     ]
    }
   ],
   "source": [
    "empty.append('hi')"
   ]
  },
  {
   "cell_type": "code",
   "execution_count": 8,
   "metadata": {},
   "outputs": [
    {
     "data": {
      "text/plain": [
       "4"
      ]
     },
     "execution_count": 8,
     "metadata": {},
     "output_type": "execute_result"
    }
   ],
   "source": [
    "len(mutable_synonyms)"
   ]
  },
  {
   "cell_type": "code",
   "execution_count": 9,
   "metadata": {},
   "outputs": [
    {
     "data": {
      "text/plain": [
       "['changeable', 'fluctuating', 'inconstant', 'variable']"
      ]
     },
     "execution_count": 9,
     "metadata": {},
     "output_type": "execute_result"
    }
   ],
   "source": [
    "sorted(mutable_synonyms)"
   ]
  },
  {
   "cell_type": "code",
   "execution_count": 10,
   "metadata": {},
   "outputs": [
    {
     "data": {
      "text/plain": [
       "('changeable',\n",
       " 'fluctuating',\n",
       " 'inconstant',\n",
       " 'variable',\n",
       " 'modifiable',\n",
       " 'shifting')"
      ]
     },
     "execution_count": 10,
     "metadata": {},
     "output_type": "execute_result"
    }
   ],
   "source": [
    "mutable_synonyms + ('modifiable', 'shifting')"
   ]
  },
  {
   "cell_type": "code",
   "execution_count": 11,
   "metadata": {},
   "outputs": [
    {
     "data": {
      "text/plain": [
       "('changeable', 'fluctuating', 'inconstant', 'variable')"
      ]
     },
     "execution_count": 11,
     "metadata": {},
     "output_type": "execute_result"
    }
   ],
   "source": [
    "mutable_synonyms"
   ]
  },
  {
   "cell_type": "code",
   "execution_count": 13,
   "metadata": {},
   "outputs": [
    {
     "data": {
      "text/plain": [
       "{'apple', 'book', 'box', 'coat', 'hair', 'lock', 'xylophone'}"
      ]
     },
     "execution_count": 13,
     "metadata": {},
     "output_type": "execute_result"
    }
   ],
   "source": [
    "# Sets\n",
    "\n",
    "# mutable\n",
    "# unordered and distinct\n",
    "\n",
    "things = {'coat', 'lock', 'box', 'book', 'apple', 'hair', 'xylophone', 'lock', 'book'}\n",
    "things"
   ]
  },
  {
   "cell_type": "code",
   "execution_count": 12,
   "metadata": {},
   "outputs": [
    {
     "ename": "TypeError",
     "evalue": "can only concatenate list (not \"tuple\") to list",
     "output_type": "error",
     "traceback": [
      "\u001b[0;31m---------------------------------------------------------------------------\u001b[0m",
      "\u001b[0;31mTypeError\u001b[0m                                 Traceback (most recent call last)",
      "Cell \u001b[0;32mIn[12], line 1\u001b[0m\n\u001b[0;32m----> 1\u001b[0m \u001b[43m[\u001b[49m\u001b[38;5;124;43m'\u001b[39;49m\u001b[38;5;124;43mcat\u001b[39;49m\u001b[38;5;124;43m'\u001b[39;49m\u001b[43m,\u001b[49m\u001b[43m \u001b[49m\u001b[38;5;124;43m'\u001b[39;49m\u001b[38;5;124;43mdog\u001b[39;49m\u001b[38;5;124;43m'\u001b[39;49m\u001b[43m]\u001b[49m\u001b[43m \u001b[49m\u001b[38;5;241;43m+\u001b[39;49m\u001b[43m \u001b[49m\u001b[43m(\u001b[49m\u001b[38;5;124;43m'\u001b[39;49m\u001b[38;5;124;43mbird\u001b[39;49m\u001b[38;5;124;43m'\u001b[39;49m\u001b[43m,\u001b[49m\u001b[43m \u001b[49m\u001b[38;5;124;43m'\u001b[39;49m\u001b[38;5;124;43mfish\u001b[39;49m\u001b[38;5;124;43m'\u001b[39;49m\u001b[43m)\u001b[49m\n",
      "\u001b[0;31mTypeError\u001b[0m: can only concatenate list (not \"tuple\") to list"
     ]
    }
   ],
   "source": [
    "['cat', 'dog'] + ('bird', 'fish')"
   ]
  },
  {
   "cell_type": "code",
   "execution_count": 15,
   "metadata": {},
   "outputs": [
    {
     "data": {
      "text/plain": [
       "{'M1M', 'M1T', 'M5R', 'M5V'}"
      ]
     },
     "execution_count": 15,
     "metadata": {},
     "output_type": "execute_result"
    }
   ],
   "source": [
    "visitor_post_codes = ['M5R', 'M5V', 'M1M', 'M1M', 'M1T']\n",
    "set(visitor_post_codes)"
   ]
  },
  {
   "cell_type": "code",
   "execution_count": null,
   "metadata": {},
   "outputs": [],
   "source": [
    "empty_set = set()"
   ]
  },
  {
   "cell_type": "code",
   "execution_count": 16,
   "metadata": {},
   "outputs": [
    {
     "data": {
      "text/plain": [
       "['M5R', 'M5V', 'M1M', 'M1M', 'M1T']"
      ]
     },
     "execution_count": 16,
     "metadata": {},
     "output_type": "execute_result"
    }
   ],
   "source": [
    "visitor_post_codes"
   ]
  },
  {
   "cell_type": "code",
   "execution_count": 17,
   "metadata": {},
   "outputs": [
    {
     "data": {
      "text/plain": [
       "{'apple', 'book', 'box', 'coat', 'hair', 'lock', 'xylophone'}"
      ]
     },
     "execution_count": 17,
     "metadata": {},
     "output_type": "execute_result"
    }
   ],
   "source": [
    "things"
   ]
  },
  {
   "cell_type": "code",
   "execution_count": 18,
   "metadata": {},
   "outputs": [
    {
     "data": {
      "text/plain": [
       "True"
      ]
     },
     "execution_count": 18,
     "metadata": {},
     "output_type": "execute_result"
    }
   ],
   "source": [
    "# checking for membership\n",
    "'lock' in things"
   ]
  },
  {
   "cell_type": "code",
   "execution_count": 19,
   "metadata": {},
   "outputs": [],
   "source": [
    "things.add('lock')"
   ]
  },
  {
   "cell_type": "code",
   "execution_count": 20,
   "metadata": {},
   "outputs": [
    {
     "data": {
      "text/plain": [
       "{'apple', 'book', 'box', 'coat', 'hair', 'lock', 'xylophone'}"
      ]
     },
     "execution_count": 20,
     "metadata": {},
     "output_type": "execute_result"
    }
   ],
   "source": [
    "things"
   ]
  },
  {
   "cell_type": "code",
   "execution_count": 21,
   "metadata": {},
   "outputs": [],
   "source": [
    "things.add('mirror')"
   ]
  },
  {
   "cell_type": "code",
   "execution_count": 22,
   "metadata": {},
   "outputs": [
    {
     "data": {
      "text/plain": [
       "{'apple', 'book', 'box', 'coat', 'hair', 'lock', 'mirror', 'xylophone'}"
      ]
     },
     "execution_count": 22,
     "metadata": {},
     "output_type": "execute_result"
    }
   ],
   "source": [
    "things"
   ]
  },
  {
   "cell_type": "code",
   "execution_count": 23,
   "metadata": {},
   "outputs": [],
   "source": [
    "things.remove('apple')"
   ]
  },
  {
   "cell_type": "code",
   "execution_count": 24,
   "metadata": {},
   "outputs": [
    {
     "data": {
      "text/plain": [
       "{'book', 'box', 'coat', 'hair', 'lock', 'mirror', 'xylophone'}"
      ]
     },
     "execution_count": 24,
     "metadata": {},
     "output_type": "execute_result"
    }
   ],
   "source": [
    "things"
   ]
  },
  {
   "cell_type": "code",
   "execution_count": 25,
   "metadata": {},
   "outputs": [
    {
     "ename": "TypeError",
     "evalue": "'set' object is not subscriptable",
     "output_type": "error",
     "traceback": [
      "\u001b[0;31m---------------------------------------------------------------------------\u001b[0m",
      "\u001b[0;31mTypeError\u001b[0m                                 Traceback (most recent call last)",
      "Cell \u001b[0;32mIn[25], line 1\u001b[0m\n\u001b[0;32m----> 1\u001b[0m \u001b[43mthings\u001b[49m\u001b[43m[\u001b[49m\u001b[38;5;241;43m1\u001b[39;49m\u001b[43m]\u001b[49m\n",
      "\u001b[0;31mTypeError\u001b[0m: 'set' object is not subscriptable"
     ]
    }
   ],
   "source": [
    "things[1]"
   ]
  },
  {
   "cell_type": "code",
   "execution_count": 26,
   "metadata": {},
   "outputs": [],
   "source": [
    "# union -> combine two sets to get the unique values in both\n",
    "# intersection -> the values two sets have in common\n",
    "# symmetric difference -> find the values that are only in one of the two sets\n",
    "# difference -> find the values in the first set that are not in the second set\n",
    "\n",
    "\n",
    "rainbow = {'red', 'orange', 'yellow', 'green', 'blue', 'indigo', 'violet'}\n",
    "olympic_flag = {'red', 'green', 'yellow', 'blue', 'black'}"
   ]
  },
  {
   "cell_type": "code",
   "execution_count": 27,
   "metadata": {},
   "outputs": [
    {
     "data": {
      "text/plain": [
       "{'indigo', 'orange', 'violet'}"
      ]
     },
     "execution_count": 27,
     "metadata": {},
     "output_type": "execute_result"
    }
   ],
   "source": [
    "rainbow.difference(olympic_flag)"
   ]
  },
  {
   "cell_type": "code",
   "execution_count": 28,
   "metadata": {},
   "outputs": [
    {
     "data": {
      "text/plain": [
       "{'black'}"
      ]
     },
     "execution_count": 28,
     "metadata": {},
     "output_type": "execute_result"
    }
   ],
   "source": [
    "olympic_flag.difference(rainbow)"
   ]
  },
  {
   "cell_type": "code",
   "execution_count": 30,
   "metadata": {},
   "outputs": [
    {
     "data": {
      "text/plain": [
       "{'black', 'indigo', 'orange', 'violet'}"
      ]
     },
     "execution_count": 30,
     "metadata": {},
     "output_type": "execute_result"
    }
   ],
   "source": [
    "rainbow.symmetric_difference(olympic_flag)"
   ]
  },
  {
   "cell_type": "code",
   "execution_count": 36,
   "metadata": {},
   "outputs": [
    {
     "data": {
      "text/plain": [
       "{'black', 'indigo', 'orange', 'violet'}"
      ]
     },
     "execution_count": 36,
     "metadata": {},
     "output_type": "execute_result"
    }
   ],
   "source": [
    "olympic_flag.symmetric_difference(rainbow)"
   ]
  },
  {
   "cell_type": "code",
   "execution_count": 31,
   "metadata": {},
   "outputs": [
    {
     "data": {
      "text/plain": [
       "{'blue', 'green', 'red', 'yellow'}"
      ]
     },
     "execution_count": 31,
     "metadata": {},
     "output_type": "execute_result"
    }
   ],
   "source": [
    "rainbow.intersection(olympic_flag)"
   ]
  },
  {
   "cell_type": "code",
   "execution_count": 32,
   "metadata": {},
   "outputs": [
    {
     "data": {
      "text/plain": [
       "{'black', 'blue', 'green', 'indigo', 'orange', 'red', 'violet', 'yellow'}"
      ]
     },
     "execution_count": 32,
     "metadata": {},
     "output_type": "execute_result"
    }
   ],
   "source": [
    "rainbow.union(olympic_flag)"
   ]
  },
  {
   "cell_type": "code",
   "execution_count": 37,
   "metadata": {},
   "outputs": [
    {
     "data": {
      "text/plain": [
       "{'Canada': 'Ottawa',\n",
       " 'United States': 'Washington, D.C.',\n",
       " 'Mexico': 'Mexico City'}"
      ]
     },
     "execution_count": 37,
     "metadata": {},
     "output_type": "execute_result"
    }
   ],
   "source": [
    "# Dictionaries\n",
    "\n",
    "# key:value pairs\n",
    "# ordered and mutable\n",
    "# every key in a dictionary is unique\n",
    "# keys can be any immutable data type (e.g., strings, numbers, booleans, tuples)\n",
    "# values can be any data type\n",
    "\n",
    "capitals = {'Canada': 'Ottawa', \n",
    "            'United States': 'Washington, D.C.', \n",
    "            'Mexico': 'Mexico City'}\n",
    "\n",
    "capitals"
   ]
  },
  {
   "cell_type": "code",
   "execution_count": 38,
   "metadata": {},
   "outputs": [
    {
     "data": {
      "text/plain": [
       "{2020: 'Tokyo', 2016: 'Rio de Janiero', 2012: 'London'}"
      ]
     },
     "execution_count": 38,
     "metadata": {},
     "output_type": "execute_result"
    }
   ],
   "source": [
    "olympic_cities = {2020: 'Tokyo',\n",
    "                  2016: 'Rio de Janiero',\n",
    "                  2012: 'London'}\n",
    "\n",
    "olympic_cities"
   ]
  },
  {
   "cell_type": "code",
   "execution_count": 39,
   "metadata": {},
   "outputs": [
    {
     "data": {
      "text/plain": [
       "{'summer': {2020: 'Tokyo', 2016: 'Rio de Janiero', 2012: 'London'},\n",
       " 'winter': {2022: 'Beijing', 2018: 'Pyeongchang'}}"
      ]
     },
     "execution_count": 39,
     "metadata": {},
     "output_type": "execute_result"
    }
   ],
   "source": [
    "all_olympics_host = {'summer': olympic_cities,\n",
    "                     'winter': {2022: 'Beijing', 2018: 'Pyeongchang'}}\n",
    "\n",
    "all_olympics_host"
   ]
  },
  {
   "cell_type": "code",
   "execution_count": 40,
   "metadata": {},
   "outputs": [
    {
     "data": {
      "text/plain": [
       "dict"
      ]
     },
     "execution_count": 40,
     "metadata": {},
     "output_type": "execute_result"
    }
   ],
   "source": [
    "empty_dictionary = {} #convention\n",
    "type(empty_dictionary)"
   ]
  },
  {
   "cell_type": "code",
   "execution_count": 41,
   "metadata": {},
   "outputs": [
    {
     "data": {
      "text/plain": [
       "dict"
      ]
     },
     "execution_count": 41,
     "metadata": {},
     "output_type": "execute_result"
    }
   ],
   "source": [
    "still_empty = dict()\n",
    "type(still_empty)"
   ]
  },
  {
   "cell_type": "code",
   "execution_count": 42,
   "metadata": {},
   "outputs": [
    {
     "data": {
      "text/plain": [
       "{2020: 'Tokyo', 2016: 'Rio de Janiero', 2012: 'London'}"
      ]
     },
     "execution_count": 42,
     "metadata": {},
     "output_type": "execute_result"
    }
   ],
   "source": [
    "olympic_cities"
   ]
  },
  {
   "cell_type": "code",
   "execution_count": 43,
   "metadata": {},
   "outputs": [
    {
     "data": {
      "text/plain": [
       "'London'"
      ]
     },
     "execution_count": 43,
     "metadata": {},
     "output_type": "execute_result"
    }
   ],
   "source": [
    "olympic_cities[2012]"
   ]
  },
  {
   "cell_type": "code",
   "execution_count": 44,
   "metadata": {},
   "outputs": [
    {
     "data": {
      "text/plain": [
       "{'summer': {2020: 'Tokyo', 2016: 'Rio de Janiero', 2012: 'London'},\n",
       " 'winter': {2022: 'Beijing', 2018: 'Pyeongchang'}}"
      ]
     },
     "execution_count": 44,
     "metadata": {},
     "output_type": "execute_result"
    }
   ],
   "source": [
    "all_olympics_host"
   ]
  },
  {
   "cell_type": "code",
   "execution_count": 46,
   "metadata": {},
   "outputs": [
    {
     "data": {
      "text/plain": [
       "'Beijing'"
      ]
     },
     "execution_count": 46,
     "metadata": {},
     "output_type": "execute_result"
    }
   ],
   "source": [
    "all_olympics_host['winter'][2022]"
   ]
  },
  {
   "cell_type": "code",
   "execution_count": 48,
   "metadata": {},
   "outputs": [
    {
     "data": {
      "text/plain": [
       "'Tokyo'"
      ]
     },
     "execution_count": 48,
     "metadata": {},
     "output_type": "execute_result"
    }
   ],
   "source": [
    "all_olympics_host['summer'][2020]"
   ]
  },
  {
   "cell_type": "code",
   "execution_count": 49,
   "metadata": {},
   "outputs": [
    {
     "data": {
      "text/plain": [
       "{2020: 'Tokyo', 2016: 'Rio de Janiero', 2012: 'London'}"
      ]
     },
     "execution_count": 49,
     "metadata": {},
     "output_type": "execute_result"
    }
   ],
   "source": [
    "olympic_cities"
   ]
  },
  {
   "cell_type": "code",
   "execution_count": 50,
   "metadata": {},
   "outputs": [
    {
     "ename": "KeyError",
     "evalue": "2014",
     "output_type": "error",
     "traceback": [
      "\u001b[0;31m---------------------------------------------------------------------------\u001b[0m",
      "\u001b[0;31mKeyError\u001b[0m                                  Traceback (most recent call last)",
      "Cell \u001b[0;32mIn[50], line 1\u001b[0m\n\u001b[0;32m----> 1\u001b[0m \u001b[43molympic_cities\u001b[49m\u001b[43m[\u001b[49m\u001b[38;5;241;43m2014\u001b[39;49m\u001b[43m]\u001b[49m\n",
      "\u001b[0;31mKeyError\u001b[0m: 2014"
     ]
    }
   ],
   "source": [
    "olympic_cities[2014]"
   ]
  },
  {
   "cell_type": "code",
   "execution_count": 51,
   "metadata": {},
   "outputs": [
    {
     "data": {
      "text/plain": [
       "'Toronto'"
      ]
     },
     "execution_count": 51,
     "metadata": {},
     "output_type": "execute_result"
    }
   ],
   "source": [
    "olympic_cities.get(2004, 'Toronto')"
   ]
  },
  {
   "cell_type": "code",
   "execution_count": 52,
   "metadata": {},
   "outputs": [
    {
     "data": {
      "text/plain": [
       "{2020: 'Tokyo', 2016: 'Rio de Janiero', 2012: 'London'}"
      ]
     },
     "execution_count": 52,
     "metadata": {},
     "output_type": "execute_result"
    }
   ],
   "source": [
    "olympic_cities"
   ]
  },
  {
   "cell_type": "code",
   "execution_count": 53,
   "metadata": {},
   "outputs": [
    {
     "data": {
      "text/plain": [
       "True"
      ]
     },
     "execution_count": 53,
     "metadata": {},
     "output_type": "execute_result"
    }
   ],
   "source": [
    "2016 in olympic_cities"
   ]
  },
  {
   "cell_type": "code",
   "execution_count": 55,
   "metadata": {},
   "outputs": [
    {
     "data": {
      "text/plain": [
       "False"
      ]
     },
     "execution_count": 55,
     "metadata": {},
     "output_type": "execute_result"
    }
   ],
   "source": [
    "'Rio de Janiero' in olympic_cities"
   ]
  },
  {
   "cell_type": "code",
   "execution_count": 56,
   "metadata": {},
   "outputs": [
    {
     "data": {
      "text/plain": [
       "{2020: 'Tokyo', 2016: 'Rio de Janiero', 2012: 'London', 2008: 'Barcelona'}"
      ]
     },
     "execution_count": 56,
     "metadata": {},
     "output_type": "execute_result"
    }
   ],
   "source": [
    "olympic_cities[2008] = 'Barcelona'\n",
    "\n",
    "olympic_cities"
   ]
  },
  {
   "cell_type": "code",
   "execution_count": 57,
   "metadata": {},
   "outputs": [
    {
     "data": {
      "text/plain": [
       "{2020: 'Tokyo', 2016: 'Rio de Janiero', 2012: 'London', 2008: 'Beijing'}"
      ]
     },
     "execution_count": 57,
     "metadata": {},
     "output_type": "execute_result"
    }
   ],
   "source": [
    "olympic_cities[2008] = 'Beijing'\n",
    "\n",
    "olympic_cities"
   ]
  },
  {
   "cell_type": "code",
   "execution_count": 65,
   "metadata": {},
   "outputs": [
    {
     "data": {
      "text/plain": [
       "{2020: 'Tokyo', 2016: 'Rio de Janiero', 2012: 'London', 2008: 'Beijing'}"
      ]
     },
     "execution_count": 65,
     "metadata": {},
     "output_type": "execute_result"
    }
   ],
   "source": [
    "olympic_cities"
   ]
  },
  {
   "cell_type": "code",
   "execution_count": 66,
   "metadata": {},
   "outputs": [
    {
     "data": {
      "text/plain": [
       "{'summer': {2020: 'Tokyo',\n",
       "  2016: 'Rio de Janiero',\n",
       "  2012: 'London',\n",
       "  2008: 'Beijing'},\n",
       " 'winter': {2022: 'Beijing', 2018: 'Pyeongchang'}}"
      ]
     },
     "execution_count": 66,
     "metadata": {},
     "output_type": "execute_result"
    }
   ],
   "source": [
    "all_olympics_host"
   ]
  },
  {
   "cell_type": "code",
   "execution_count": 67,
   "metadata": {},
   "outputs": [],
   "source": [
    "del olympic_cities[2020]"
   ]
  },
  {
   "cell_type": "code",
   "execution_count": 68,
   "metadata": {},
   "outputs": [
    {
     "data": {
      "text/plain": [
       "{2016: 'Rio de Janiero', 2012: 'London', 2008: 'Beijing'}"
      ]
     },
     "execution_count": 68,
     "metadata": {},
     "output_type": "execute_result"
    }
   ],
   "source": [
    "olympic_cities"
   ]
  },
  {
   "cell_type": "code",
   "execution_count": 69,
   "metadata": {},
   "outputs": [
    {
     "data": {
      "text/plain": [
       "dict_keys(['summer', 'winter'])"
      ]
     },
     "execution_count": 69,
     "metadata": {},
     "output_type": "execute_result"
    }
   ],
   "source": [
    "all_olympics_host.keys()"
   ]
  },
  {
   "cell_type": "code",
   "execution_count": 70,
   "metadata": {},
   "outputs": [
    {
     "data": {
      "text/plain": [
       "dict_values(['Rio de Janiero', 'London', 'Beijing'])"
      ]
     },
     "execution_count": 70,
     "metadata": {},
     "output_type": "execute_result"
    }
   ],
   "source": [
    "olympic_cities.values()"
   ]
  },
  {
   "cell_type": "code",
   "execution_count": 71,
   "metadata": {},
   "outputs": [
    {
     "name": "stdout",
     "output_type": "stream",
     "text": [
      "London was a host city\n"
     ]
    }
   ],
   "source": [
    "if 'London' in olympic_cities.values():\n",
    "    print('London was a host city')\n",
    "else:\n",
    "    print('London was not a host city')"
   ]
  },
  {
   "cell_type": "code",
   "execution_count": 73,
   "metadata": {},
   "outputs": [
    {
     "data": {
      "text/plain": [
       "dict_items([(2016, 'Rio de Janiero'), (2012, 'London'), (2008, 'Beijing')])"
      ]
     },
     "execution_count": 73,
     "metadata": {},
     "output_type": "execute_result"
    }
   ],
   "source": [
    "olympic_cities.items()"
   ]
  },
  {
   "cell_type": "markdown",
   "metadata": {},
   "source": [
    "| Collection | Mutable? | Ordered? | Use when...|\n",
    "|---|---|---|---|\n",
    "| `str` | No | Yes | You want to keep track of text. |\n",
    "| `list` | Yes | Yes | You want to keep track of and update an ordered sequence.|\n",
    "| `tuple` | No | Yes | You want to build an ordered sequence that you know won't change or that you want to use as a key in a dictionary or as a value in a set. |\n",
    "| `set` | Yes | No | You want to keep track of values, but order doesn't matter, and you don't want duplicates. The values must be immutable. |\n",
    "| `dict` | Yes | No | You want to keep a mapping of keys to values. The keys must be immutable. |"
   ]
  },
  {
   "cell_type": "code",
   "execution_count": 74,
   "metadata": {},
   "outputs": [
    {
     "name": "stdout",
     "output_type": "stream",
     "text": [
      "a\n",
      "e\n",
      "i\n",
      "o\n",
      "u\n"
     ]
    }
   ],
   "source": [
    "# for loops\n",
    "\n",
    "# runs an indented block of code for every item in an iterable \n",
    "# (e.g., lists, tuples, sets, dictionaries, strings)\n",
    "\n",
    "# specify a variable name to refer to individual items by\n",
    "# pick one that makes sense, or use i (for index)\n",
    "\n",
    "vowels = ['a', 'e', 'i', 'o', 'u']\n",
    "\n",
    "for i in vowels:\n",
    "    print(i)"
   ]
  },
  {
   "cell_type": "code",
   "execution_count": 77,
   "metadata": {},
   "outputs": [
    {
     "name": "stdout",
     "output_type": "stream",
     "text": [
      "0 0\n",
      "1 2\n",
      "2 4\n",
      "3 6\n",
      "4 8\n",
      "5 10\n",
      "6 12\n"
     ]
    }
   ],
   "source": [
    "for number in range(7):\n",
    "    print(number, number*2)"
   ]
  },
  {
   "cell_type": "code",
   "execution_count": 85,
   "metadata": {},
   "outputs": [
    {
     "name": "stdout",
     "output_type": "stream",
     "text": [
      "['processed_data_01.txt']\n",
      "['processed_data_01.txt', 'processed_data_02.xlsx']\n",
      "['processed_data_01.txt', 'processed_data_02.xlsx', 'processed_data_03.xlsx']\n",
      "['processed_data_01.txt', 'processed_data_02.xlsx', 'processed_data_03.xlsx', 'processed_data_04.xlsx']\n"
     ]
    }
   ],
   "source": [
    "input_files = ['data_01.txt', 'data_02.csv', 'data_03.csv', 'data_04.csv']\n",
    "output_files = []\n",
    "\n",
    "for i in input_files:\n",
    "    output_file_name = 'processed_' + i.replace('.csv', '.xlsx')\n",
    "    output_files.append(output_file_name)\n",
    "    print(output_files)"
   ]
  },
  {
   "cell_type": "code",
   "execution_count": 81,
   "metadata": {},
   "outputs": [
    {
     "name": "stdout",
     "output_type": "stream",
     "text": [
      "['data_01.csv']\n",
      "['data_01.csv', 'data_02.csv']\n",
      "['data_01.csv', 'data_02.csv', 'data_03.csv']\n",
      "['data_01.csv', 'data_02.csv', 'data_03.csv', 'data_04.csv']\n"
     ]
    }
   ],
   "source": [
    "input_files = ['data_01.csv', 'data_02.csv', 'data_03.csv', 'data_04.csv']\n",
    "output_files = []\n",
    "\n",
    "for i in input_files:\n",
    "    output_files.append(i)\n",
    "    print(output_files)"
   ]
  },
  {
   "cell_type": "code",
   "execution_count": 82,
   "metadata": {},
   "outputs": [
    {
     "name": "stdout",
     "output_type": "stream",
     "text": [
      "apple\n",
      "blueberries\n",
      "strawberries\n",
      "jackfruit\n"
     ]
    }
   ],
   "source": [
    "fruits = ['apple', 'blueberries', 'strawberries', 'jackfruit']\n",
    "\n",
    "\n",
    "for snack in fruits:\n",
    "    print(snack)"
   ]
  },
  {
   "cell_type": "code",
   "execution_count": 97,
   "metadata": {},
   "outputs": [],
   "source": [
    "veggies = {'carrots', 'potatoes', 'celery', 'tomatoes', 'potatoes'}"
   ]
  },
  {
   "cell_type": "code",
   "execution_count": 115,
   "metadata": {},
   "outputs": [
    {
     "name": "stdout",
     "output_type": "stream",
     "text": [
      "{'tomatoes', 'carrots', 'celery', 'potatoes'}\n"
     ]
    }
   ],
   "source": [
    "print(veggies)"
   ]
  },
  {
   "cell_type": "code",
   "execution_count": 99,
   "metadata": {},
   "outputs": [
    {
     "data": {
      "text/plain": [
       "{'carrots', 'celery', 'potatoes', 'tomatoes'}"
      ]
     },
     "execution_count": 99,
     "metadata": {},
     "output_type": "execute_result"
    }
   ],
   "source": [
    "veggies"
   ]
  },
  {
   "cell_type": "code",
   "execution_count": 117,
   "metadata": {},
   "outputs": [
    {
     "name": "stdout",
     "output_type": "stream",
     "text": [
      "0 I love tomatoes\n",
      "1 I love carrots\n",
      "2 I love celery\n",
      "3 I love potatoes\n"
     ]
    }
   ],
   "source": [
    "for idx, j in enumerate(veggies):\n",
    "    print(f'{idx} I love {j}')"
   ]
  },
  {
   "cell_type": "code",
   "execution_count": 102,
   "metadata": {},
   "outputs": [
    {
     "name": "stdout",
     "output_type": "stream",
     "text": [
      "Stop 1 is Islington\n",
      "Stop 2 is Royal York\n",
      "Stop 3 is Keele\n",
      "Stop 4 is Jane\n",
      "Stop 5 is Union\n"
     ]
    }
   ],
   "source": [
    "ttc_stops = ['Islington', 'Royal York', 'Keele', 'Jane', 'Union']\n",
    "\n",
    "for idx, stop in enumerate(ttc_stops):\n",
    "    print(f'Stop {idx + 1} is {stop}')"
   ]
  },
  {
   "cell_type": "code",
   "execution_count": 105,
   "metadata": {},
   "outputs": [
    {
     "data": {
      "text/plain": [
       "[2, 20, 200, 2000]"
      ]
     },
     "execution_count": 105,
     "metadata": {},
     "output_type": "execute_result"
    }
   ],
   "source": [
    "numbers = [1, 10, 100, 1000]\n",
    "\n",
    "for idx, val in enumerate(numbers):\n",
    "    numbers[idx] = val * 2 # idx = 2; val = 100\n",
    "numbers"
   ]
  },
  {
   "cell_type": "code",
   "execution_count": 106,
   "metadata": {},
   "outputs": [
    {
     "data": {
      "text/plain": [
       "[2, 20, 200, 2000]"
      ]
     },
     "execution_count": 106,
     "metadata": {},
     "output_type": "execute_result"
    }
   ],
   "source": [
    "numbers = [1, 10, 100, 1000]\n",
    "idx = 0\n",
    "\n",
    "for val in numbers:\n",
    "    numbers[idx] = val * 2\n",
    "    idx = idx + 1 # idx += 1\n",
    "numbers"
   ]
  },
  {
   "cell_type": "code",
   "execution_count": 108,
   "metadata": {},
   "outputs": [
    {
     "name": "stdout",
     "output_type": "stream",
     "text": [
      "43.12 0.332\n",
      "24.5433 8.3\n",
      "592.68 90.28\n"
     ]
    }
   ],
   "source": [
    "lats = [43.12, 24.5433, 592.68]\n",
    "lons = [0.332, 8.3, 90.28]\n",
    "\n",
    "for i, j in zip(lats, lons):\n",
    "    print(i, j)"
   ]
  },
  {
   "cell_type": "code",
   "execution_count": 111,
   "metadata": {},
   "outputs": [
    {
     "data": {
      "text/plain": [
       "dict_items([(2016, 'Rio de Janiero'), (2012, 'London'), (2008, 'Beijing')])"
      ]
     },
     "execution_count": 111,
     "metadata": {},
     "output_type": "execute_result"
    }
   ],
   "source": [
    "olympic_cities.items()"
   ]
  },
  {
   "cell_type": "code",
   "execution_count": 112,
   "metadata": {},
   "outputs": [
    {
     "name": "stdout",
     "output_type": "stream",
     "text": [
      "2016 Rio de Janiero\n",
      "2012 London\n",
      "2008 Beijing\n"
     ]
    }
   ],
   "source": [
    "for key, value in olympic_cities.items():\n",
    "    print(key, value)"
   ]
  },
  {
   "cell_type": "code",
   "execution_count": 113,
   "metadata": {},
   "outputs": [
    {
     "name": "stdout",
     "output_type": "stream",
     "text": [
      "My birthday is on april 12!\n",
      "My birthday is on may 12!\n",
      "My birthday is on june 12!\n",
      "My birthday is on january 12!\n",
      "My birthday is on february 12!\n",
      "My birthday is on april 30!\n",
      "My birthday is on may 30!\n",
      "My birthday is on june 30!\n",
      "My birthday is on january 30!\n",
      "My birthday is on february 30!\n",
      "My birthday is on april 17!\n",
      "My birthday is on may 17!\n",
      "My birthday is on june 17!\n",
      "My birthday is on january 17!\n",
      "My birthday is on february 17!\n",
      "My birthday is on april 6!\n",
      "My birthday is on may 6!\n",
      "My birthday is on june 6!\n",
      "My birthday is on january 6!\n",
      "My birthday is on february 6!\n",
      "My birthday is on april 7!\n",
      "My birthday is on may 7!\n",
      "My birthday is on june 7!\n",
      "My birthday is on january 7!\n",
      "My birthday is on february 7!\n"
     ]
    }
   ],
   "source": [
    "days = [12, 30, 17, 6, 7]\n",
    "months = ['april', 'may', 'june', 'january', 'february']\n",
    "\n",
    "for i in days: # i = 17\n",
    "    for j in months: # j = 'april'\n",
    "        print(f\"My birthday is on {j} {i}!\")"
   ]
  },
  {
   "cell_type": "code",
   "execution_count": 114,
   "metadata": {},
   "outputs": [
    {
     "name": "stdout",
     "output_type": "stream",
     "text": [
      "My pet is a dog and its name is buddy\n",
      "My pet is a dog and its name is al\n",
      "My pet is a bird and its name is buddy\n",
      "My pet is a bird and its name is al\n",
      "My pet is a cat and its name is buddy\n",
      "My pet is a cat and its name is al\n"
     ]
    }
   ],
   "source": [
    "pets = ['dog', 'bird', 'cat']\n",
    "names = ['buddy', 'al']\n",
    "\n",
    "for i in pets: # i = 'cat'\n",
    "    for j in names: # j = 'al'\n",
    "        print(f\"My pet is a {i} and its name is {j}\")"
   ]
  },
  {
   "cell_type": "code",
   "execution_count": null,
   "metadata": {},
   "outputs": [],
   "source": []
  }
 ],
 "metadata": {
  "kernelspec": {
   "display_name": "dsi_participant",
   "language": "python",
   "name": "python3"
  },
  "language_info": {
   "codemirror_mode": {
    "name": "ipython",
    "version": 3
   },
   "file_extension": ".py",
   "mimetype": "text/x-python",
   "name": "python",
   "nbconvert_exporter": "python",
   "pygments_lexer": "ipython3",
   "version": "3.11.8"
  }
 },
 "nbformat": 4,
 "nbformat_minor": 2
}
