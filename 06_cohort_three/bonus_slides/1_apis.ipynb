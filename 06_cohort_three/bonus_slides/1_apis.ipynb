{
 "cells": [
  {
   "cell_type": "markdown",
   "metadata": {},
   "source": [
    "# APIs\n",
    "\n",
    "# What is a API?\n",
    "\n",
    "- API stands for Application Programming Interface\n",
    "- Allows software programs to communicate with each other\n",
    "- Provides structured way to communicate between applications and devices (expose data and functionality)\n",
    "- Allows other developers to access and integrate with an application without needing to understand complex implementation details\n",
    "\n",
    "# Have we used an API before?\n",
    "\n",
    "YES!!! We used numPy and soon, and later on in the program, we will use pandas."
   ]
  },
  {
   "cell_type": "markdown",
   "metadata": {},
   "source": [
    "## Exercise 1\n",
    "\n",
    "We will call the Open Meteo API!"
   ]
  },
  {
   "cell_type": "code",
   "execution_count": null,
   "metadata": {},
   "outputs": [],
   "source": [
    "import requests\n",
    "\n",
    "url = \"https://api.open-meteo.com/v1/forecast\"\n",
    "params = {\n",
    "  \"latitude\": 43.7001,\n",
    "  \"longitude\": -79.4163,\n",
    "  \"hourly\": \"temperature_2m\"\n",
    "}\n",
    "data = requests.get(url, params).json()\n",
    "\n",
    "print(data)\n"
   ]
  },
  {
   "cell_type": "markdown",
   "metadata": {},
   "source": [
    "# Why Web APIs?\n",
    "\n",
    "- Your program can interact with the world\n",
    "- Data from more than just files on the computer\n",
    "  - Updated datasets\n",
    "  - Industrial sensors\n",
    "- Effects and outcomes on real-world objects\n",
    "  - Smart home control\n",
    "  - Mobile notifications\n",
    "\n",
    "## The RESTful Web API\n",
    "- The RESTful Web APIs are a quasi-standard method of performing actions using or exchanging data with web-connected services\n",
    "  - e.g. Retrieve list of repositories from GitHub\n",
    "  - e.g. Using GPT-4 to process datasets automatically\n",
    "  - e.g. Starting and stopping a container hosted on Microsoft Azure\n",
    "- REST: “Representational State Transfer”\n",
    "  - Uses HTTP requests: GET, POST, (PUT), (DELETE)\n",
    "  - Generally, returns data in machine-readable formats like JSON\n",
    "- Uniform interface\n",
    "  - Every entity (piece of data) is generally retrieved from the same URI\n",
    "- Client-server decoupling\n",
    "  - The web interface is assumed to be the only link between the client and the server\n",
    "  - Data isn’t getting passed through a separate channel (e.g. file on hard drive)\n",
    "- Statelessness\n",
    "  - All required information is included in the request\n",
    "  - Identity is established on every request (usually via a secret token)\n",
    "\n",
    "## Exercise 2\n",
    "Read the API document [here](https://open-meteo.com/en/docs)(scrol down to API Documentation), and play around with the code again, and answer the following questions:"
   ]
  },
  {
   "cell_type": "code",
   "execution_count": null,
   "metadata": {},
   "outputs": [],
   "source": [
    "# 1. What is the current temperature in Tokyo, Japan?\n",
    "# Play with this code again!\n",
    "\n",
    "import requests\n",
    "\n",
    "url = \"https://api.open-meteo.com/v1/forecast\"\n",
    "params = {\n",
    "  \"latitude\": 43.7001,\n",
    "  \"longitude\": -79.4163,\n",
    "  \"hourly\": \"temperature_2m\"\n",
    "}\n",
    "data = requests.get(url, params).json()\n",
    "\n",
    "print(data)"
   ]
  },
  {
   "cell_type": "code",
   "execution_count": null,
   "metadata": {},
   "outputs": [],
   "source": [
    "# 2. How would you include hourly weather code as part of the JSON response?\n",
    "# Play with this code again!\n",
    "\n",
    "import requests\n",
    "\n",
    "url = \"https://api.open-meteo.com/v1/forecast\"\n",
    "params = {\n",
    "  \"latitude\": 43.7001,\n",
    "  \"longitude\": -79.4163,\n",
    "  \"hourly\": \"temperature_2m\"\n",
    "}\n",
    "data = requests.get(url, params).json()\n",
    "\n",
    "print(data)"
   ]
  },
  {
   "cell_type": "code",
   "execution_count": null,
   "metadata": {},
   "outputs": [],
   "source": [
    "# 3. How about getting the current weather code only?\n",
    "# Play with this code again!\n",
    "\n",
    "import requests\n",
    "\n",
    "url = \"https://api.open-meteo.com/v1/forecast\"\n",
    "params = {\n",
    "  \"latitude\": 43.7001,\n",
    "  \"longitude\": -79.4163,\n",
    "  \"hourly\": \"temperature_2m\"\n",
    "}\n",
    "data = requests.get(url, params).json()\n",
    "\n",
    "print(data)"
   ]
  }
 ],
 "metadata": {
  "kernelspec": {
   "display_name": "Python 3",
   "language": "python",
   "name": "python3"
  },
  "language_info": {
   "codemirror_mode": {
    "name": "ipython",
    "version": 3
   },
   "file_extension": ".py",
   "mimetype": "text/x-python",
   "name": "python",
   "nbconvert_exporter": "python",
   "pygments_lexer": "ipython3",
   "version": "3.11.5"
  }
 },
 "nbformat": 4,
 "nbformat_minor": 2
}
